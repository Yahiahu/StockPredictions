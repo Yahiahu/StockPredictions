{
 "cells": [
  {
   "cell_type": "code",
   "execution_count": 1,
   "metadata": {},
   "outputs": [],
   "source": [
    "import numpy as np\n",
    "import pandas as pd\n",
    "from sklearn.ensemble import RandomForestRegressor"
   ]
  },
  {
   "cell_type": "code",
   "execution_count": 2,
   "metadata": {},
   "outputs": [
    {
     "name": "stdout",
     "output_type": "stream",
     "text": [
      "Done Training\n"
     ]
    }
   ],
   "source": [
    "# Load the CSV file\n",
    "df = pd.read_csv('AAPL.csv')\n",
    "\n",
    "# Convert date column to Unix timestamps\n",
    "df['Date'] = pd.to_datetime(df['Date']).astype(np.int64) // 10**9\n",
    "\n",
    "# Remove rows with '?' values\n",
    "df = df.replace('?', np.nan)\n",
    "df = df.dropna()\n",
    "\n",
    "# Drop the 'id' column\n",
    "# df = df.drop('id', axis=1)\n",
    "df = df.drop('Adj Close', axis=1)\n",
    "\n",
    "# Split the dataset into features (X) and target variables (y)\n",
    "X = df.drop(['Close', 'Date'], axis=1)\n",
    "y_close = df['Close']\n",
    "\n",
    "# Train the model for close price prediction\n",
    "close_model = RandomForestRegressor(random_state=50)\n",
    "close_model.fit(X, y_close)\n",
    "\n",
    "print(\"Done Training\")\n"
   ]
  },
  {
   "cell_type": "code",
   "execution_count": 3,
   "metadata": {},
   "outputs": [
    {
     "name": "stdout",
     "output_type": "stream",
     "text": [
      "July 6, 2023 - Predicted close price: 189.03559792000007\n"
     ]
    }
   ],
   "source": [
    "# Get the features for July 5, 2023\n",
    "known_Data = pd.DataFrame({\n",
    "    'Open': [189.26],\n",
    "    'High': [189.99],\n",
    "    'Low': [187.04],\n",
    "    'Volume': [59922200]\n",
    "})\n",
    "\n",
    "# Make predictions for July 6, 2023\n",
    "close_prediction = close_model.predict(known_Data)\n",
    "\n",
    "print('July 6, 2023 - Predicted close price:', close_prediction[0])"
   ]
  }
 ],
 "metadata": {
  "kernelspec": {
   "display_name": "base",
   "language": "python",
   "name": "python3"
  },
  "language_info": {
   "codemirror_mode": {
    "name": "ipython",
    "version": 3
   },
   "file_extension": ".py",
   "mimetype": "text/x-python",
   "name": "python",
   "nbconvert_exporter": "python",
   "pygments_lexer": "ipython3",
   "version": "3.10.10"
  },
  "orig_nbformat": 4
 },
 "nbformat": 4,
 "nbformat_minor": 2
}
